{
 "cells": [
  {
   "cell_type": "code",
   "execution_count": null,
   "metadata": {},
   "outputs": [],
   "source": [
    "import easyocr\n",
    "from PIL import Image,ImageDraw\n",
    "\n",
    "path = \"ignored/\"\n",
    "picture = \"tp1.png\"\n",
    "\n",
    "reader = easyocr.Reader(['ch_sim','en'],gpu=False,model_storage_directory='./model')\n",
    "result = reader.readtext(path+picture)\n",
    "\n",
    "#print(result)\n",
    "for i in result:\n",
    "    print(i)\n",
    "\n",
    "img = Image.open(path+picture)\n",
    "draw = ImageDraw.Draw(img)\n",
    "\n",
    "for i in result:    \n",
    "    draw.rectangle((tuple(i[0][0]),tuple(i[0][2])),fill=None,outline='red',width=2)\n",
    "img.save(path+picture.split('.')[0]+\"_easy_draw.png\")\n"
   ]
  },
  {
   "cell_type": "code",
   "execution_count": null,
   "metadata": {},
   "outputs": [],
   "source": []
  }
 ],
 "metadata": {
  "kernelspec": {
   "display_name": "nb",
   "language": "python",
   "name": "python3"
  },
  "language_info": {
   "codemirror_mode": {
    "name": "ipython",
    "version": 3
   },
   "file_extension": ".py",
   "mimetype": "text/x-python",
   "name": "python",
   "nbconvert_exporter": "python",
   "pygments_lexer": "ipython3",
   "version": "3.12.7"
  }
 },
 "nbformat": 4,
 "nbformat_minor": 2
}
