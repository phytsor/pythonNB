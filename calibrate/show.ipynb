{
 "cells": [
  {
   "cell_type": "code",
   "execution_count": 24,
   "metadata": {},
   "outputs": [
    {
     "name": "stdout",
     "output_type": "stream",
     "text": [
      "Found existing process on port 9876. Trying to connect.\n"
     ]
    }
   ],
   "source": [
    "import lmdb, os\n",
    "import json\n",
    "import cv2\n",
    "import rerun as rr\n",
    "import numpy as np\n",
    "\n",
    "dictName = \"hcam06131332\"\n",
    "\n",
    "mdb_path = r\"D:\\records\\powder_photos\\h\" + dictName[1:]\n",
    "image_path = r\"D:\\records\\images\"\n",
    "\n",
    "rr.init(\"mdb_view\", spawn=True)\n",
    "\n",
    "env = lmdb.open(mdb_path)\n",
    "with env.begin() as txn:\n",
    "    meta = json.loads(txn.get(b\"meta.json\"))\n",
    "\n",
    "    for img in meta[\"image_list\"]:\n",
    "        png_data = txn.get(img[\"name\"].encode())\n",
    "        img_data = cv2.imdecode(np.frombuffer(\n",
    "            png_data, np.uint8), cv2.IMREAD_COLOR)\n",
    "\n",
    "        rr.set_time_seconds(\"ts\", img[\"seconds\"]+img[\"nanos\"] * 1e-9)\n",
    "        rr.log(\"img\", rr.Image(img_data), rr.AnyValues(**img))"
   ]
  },
  {
   "cell_type": "code",
   "execution_count": 25,
   "metadata": {},
   "outputs": [
    {
     "name": "stdout",
     "output_type": "stream",
     "text": [
      "Found existing process on port 9876. Trying to connect.\n"
     ]
    }
   ],
   "source": [
    "mdb_path = r\"D:\\records\\powder_photos\\v\" + dictName[1:]\n",
    "\n",
    "rr.init(\"mdb_view\", spawn=True)\n",
    "\n",
    "env = lmdb.open(mdb_path)\n",
    "with env.begin() as txn:\n",
    "    meta = json.loads(txn.get(b\"meta.json\"))\n",
    "    for img in meta[\"image_list\"]:\n",
    "        png_data = txn.get(img[\"name\"].encode())\n",
    "        img_data = cv2.imdecode(np.frombuffer(png_data, np.uint8), cv2.IMREAD_COLOR)\n",
    "\n",
    "        rr.set_time_seconds(\"ts\", img[\"seconds\"] + img[\"nanos\"] * 1e-9)\n",
    "        rr.log(\"img\", rr.Image(img_data), rr.AnyValues(**img))"
   ]
  },
  {
   "cell_type": "code",
   "execution_count": null,
   "metadata": {},
   "outputs": [],
   "source": []
  }
 ],
 "metadata": {
  "kernelspec": {
   "display_name": "rheaPC",
   "language": "python",
   "name": "python3"
  },
  "language_info": {
   "codemirror_mode": {
    "name": "ipython",
    "version": 3
   },
   "file_extension": ".py",
   "mimetype": "text/x-python",
   "name": "python",
   "nbconvert_exporter": "python",
   "pygments_lexer": "ipython3",
   "version": "3.11.9"
  }
 },
 "nbformat": 4,
 "nbformat_minor": 2
}
