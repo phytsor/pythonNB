{
 "cells": [
  {
   "cell_type": "markdown",
   "metadata": {},
   "source": [
    "### 环境"
   ]
  },
  {
   "cell_type": "code",
   "execution_count": 148,
   "metadata": {},
   "outputs": [],
   "source": [
    "import os,sys\n",
    "import time\n",
    "import ipaddress\n",
    "import numpy as np\n",
    "import capnp\n",
    "\n",
    "ws_root = r\"E:\\bitbucket\\rhea_ws\"\n",
    "sys.path += [ws_root]\n",
    "from common.utils_py import *"
   ]
  },
  {
   "cell_type": "code",
   "execution_count": 149,
   "metadata": {},
   "outputs": [],
   "source": [
    "from ws_world import World\n",
    "\n",
    "world = World(ws_root)\n",
    "world.mountDevices()\n",
    "world.startGrab()"
   ]
  },
  {
   "cell_type": "code",
   "execution_count": 150,
   "metadata": {},
   "outputs": [
    {
     "data": {
      "text/plain": [
       "Pose.fromP6(231.51, 479.99, 34.80,  1.5660, 0.5469, 3.1088)"
      ]
     },
     "execution_count": 150,
     "metadata": {},
     "output_type": "execute_result"
    }
   ],
   "source": [
    "world.getPose()"
   ]
  },
  {
   "cell_type": "code",
   "execution_count": 151,
   "metadata": {},
   "outputs": [
    {
     "data": {
      "text/plain": [
       "array([ 0.76985608, -1.05134451,  2.01196178, -0.96630774, -2.34146154,\n",
       "       -0.54298459])"
      ]
     },
     "execution_count": 151,
     "metadata": {},
     "output_type": "execute_result"
    }
   ],
   "source": [
    "world.getJoints()"
   ]
  },
  {
   "cell_type": "code",
   "execution_count": null,
   "metadata": {},
   "outputs": [],
   "source": [
    "##rxxxxxxxxxx\n",
    "d = 20\n",
    "d1 = (d/180.0*np.pi)\n",
    "d2 = -(2*d/180.0*np.pi)\n",
    "t = [0.0, 0.01, 0.1540]\n",
    "\n",
    "\"\"\" world.movePoseDelta(rx=d1, line=True, tool=t)\n",
    "time.sleep(0.5)\n",
    "world.movePoseDelta(rx=d2, line=True, tool=t)\n",
    "time.sleep(0.5)\n",
    "world.movePoseDelta(rx=d1, line=True, tool=t) \"\"\"\n",
    "\n",
    "\n",
    "##ryyyyyyyyyyyy\n",
    "\"\"\" world.movePoseDelta(ry=d1, line=True, tool=t)\n",
    "time.sleep(0.5)\n",
    "world.movePoseDelta(ry=d2, line=True, tool=t)\n",
    "time.sleep(0.5)\n",
    "world.movePoseDelta(ry=d1, line=True, tool=t) \"\"\"\n",
    "\n",
    "\n",
    "##rzzzzzzzzzz\n",
    "\"\"\" world.movePoseDelta(rz=d1, line=True, tool=t)\n",
    "time.sleep(0.5)\n",
    "world.movePoseDelta(rz=d2, line=True, tool=t)\n",
    "time.sleep(0.5)\n",
    "world.movePoseDelta(rz=d1, line=True, tool=t) \"\"\""
   ]
  },
  {
   "cell_type": "markdown",
   "metadata": {},
   "source": [
    "# 水平相机"
   ]
  },
  {
   "cell_type": "code",
   "execution_count": 152,
   "metadata": {},
   "outputs": [],
   "source": [
    "def extend_pose(corner1, corner2, points, three_axis, rotation, tool):\n",
    "    mesh_pose = []\n",
    "    mesh_idx_pair = []\n",
    "    for idx, d in enumerate(corner1 - corner2):\n",
    "        if abs(d) > 0.1:\n",
    "            mesh_idx_pair.append((idx, d))\n",
    "\n",
    "    assert len(mesh_idx_pair) == 2, f\"必须有两个轴不一样，but {mesh_idx_pair}\"\n",
    "    a_idx, a_d = mesh_idx_pair[0]\n",
    "    b_idx, b_d = mesh_idx_pair[1]\n",
    "\n",
    "    if (a_idx, b_idx) == (0, 1):\n",
    "        three_axis_is = \"z\"\n",
    "    elif (a_idx, b_idx) == (0, 2):\n",
    "        three_axis_is = \"y\"\n",
    "    elif (a_idx, b_idx) == (1, 2):\n",
    "        three_axis_is = \"x\"\n",
    "    else:\n",
    "        raise Exception(\"不支持的轴\")\n",
    "\n",
    "    for x_step in range(points):\n",
    "        for y_step in range(points):\n",
    "            p = []\n",
    "            for idx in range(6):\n",
    "                if idx == a_idx:\n",
    "                    p.append(corner1[idx] - a_d * x_step / (points - 1))\n",
    "                elif idx == b_idx:\n",
    "                    p.append(corner1[idx] - b_d * y_step / (points - 1))\n",
    "                else:\n",
    "                    p.append(corner1[idx])\n",
    "            mesh_pose.append(np.array(p))\n",
    "\n",
    "    return three_axis_is, mesh_pose"
   ]
  },
  {
   "cell_type": "code",
   "execution_count": 153,
   "metadata": {},
   "outputs": [],
   "source": [
    "corner1h = np.array([215.65, 500.71, 50.01,  1.2106, 1.5345, 2.7614])  \n",
    "corner2h = np.array([215.65, 459.93, 40.82,  1.2099, 1.5345, 2.7608]) \n",
    "\n",
    "center0h = np.array([215.65, 481.29, 46.84,  1.2092, 1.5345, 2.7601])  #Joints [45.624, -62.306, 116.356, -55.059, -133.224, -87.364]\n",
    "\n",
    "points = 3\n",
    "three_axis = 40\n",
    "rotation = np.radians(16)\n",
    "tool = [0.0, 0.01, 0.152]\n",
    "\n",
    "three_axis_is, mesh_pose = extend_pose(corner1h, corner2h, points, three_axis, rotation, tool)"
   ]
  },
  {
   "cell_type": "code",
   "execution_count": 154,
   "metadata": {},
   "outputs": [],
   "source": [
    "world.hStartRecord(r\"D:\\records\\h_cam\", 2000)"
   ]
  },
  {
   "cell_type": "code",
   "execution_count": 155,
   "metadata": {},
   "outputs": [],
   "source": [
    "sleep_time = 0.8\n",
    "\n",
    "all_pose = []\n",
    "\n",
    "def shot():\n",
    "    global all_pose\n",
    "    world.hTrigger(len(all_pose), count=3)\n",
    "    all_pose.append(world.getPose())\n",
    "    time.sleep(0.6)\n",
    "\n",
    "for idx, p in enumerate(mesh_pose):\n",
    "    world.movePose(p)\n",
    "    shot()\n",
    "\n",
    "    world.movePoseDelta(y=three_axis)\n",
    "    shot()\n",
    "\n",
    "    world.movePoseDelta(y=-three_axis * 2)\n",
    "    shot()\n",
    "\n",
    "    world.movePose(p)\n",
    "    if idx % 3 == 0:\n",
    "        world.movePoseDelta(rx=rotation, tool=tool)\n",
    "        shot()\n",
    "\n",
    "        world.movePoseDelta(rx=-rotation *2, tool=tool)\n",
    "        shot()\n",
    "\n",
    "    elif idx % 3 == 1:\n",
    "        world.movePoseDelta(ry=rotation, tool=tool)\n",
    "        shot()\n",
    "\n",
    "        world.movePoseDelta(ry=-rotation *2, tool=tool)\n",
    "        shot()\n",
    "\n",
    "    else:\n",
    "        world.movePoseDelta(rz=rotation, tool=tool)\n",
    "        shot()\n",
    "\n",
    "        world.movePoseDelta(rz=-rotation *2, tool=tool)\n",
    "        shot()"
   ]
  },
  {
   "cell_type": "code",
   "execution_count": 156,
   "metadata": {},
   "outputs": [],
   "source": [
    "world.hStopRecord()"
   ]
  },
  {
   "cell_type": "code",
   "execution_count": 157,
   "metadata": {},
   "outputs": [],
   "source": [
    "np.save('h_all_pose.npy',np.array([p.homo for p in all_pose]))"
   ]
  },
  {
   "cell_type": "markdown",
   "metadata": {},
   "source": [
    "# 垂直相机"
   ]
  },
  {
   "cell_type": "code",
   "execution_count": 158,
   "metadata": {},
   "outputs": [],
   "source": [
    "corner1v = np.array([178.18, 497.05, 34.47,  1.5667, -0.0207, 3.1114]) \n",
    "corner2v = np.array([228.75, 480.08, 34.48,  1.5667, -0.0207, 3.1114])  \n",
    "\n",
    "center0v = np.array([204.27, 489.62, 34.48,  1.5667, -0.0207, 3.1114]) #Joints [47.573, -60.604, 116.056, -55.761, -130.69, 1.388]\n",
    "\n",
    "points = 3\n",
    "three_axis = 40\n",
    "rotation = np.radians(16)\n",
    "tool = [0.0, 0.01, 0.152]\n",
    "\n",
    "three_axis_is, mesh_pose = extend_pose(corner1v, corner2v, points, three_axis, rotation, tool)"
   ]
  },
  {
   "cell_type": "code",
   "execution_count": 159,
   "metadata": {},
   "outputs": [],
   "source": [
    "world.vStartRecord(r\"D:\\records\\v_cam\", 2000)"
   ]
  },
  {
   "cell_type": "code",
   "execution_count": 160,
   "metadata": {},
   "outputs": [],
   "source": [
    "sleep_time = 0.8\n",
    "\n",
    "all_pose = []\n",
    "\n",
    "def shot():\n",
    "    global all_pose\n",
    "    world.vTrigger(len(all_pose), count=3)\n",
    "    all_pose.append(world.getPose())\n",
    "    time.sleep(0.6)\n",
    "\n",
    "for idx, p in enumerate(mesh_pose):\n",
    "    world.movePose(p)\n",
    "    shot()\n",
    "\n",
    "    world.movePoseDelta(y=three_axis)\n",
    "    shot()\n",
    "\n",
    "    world.movePoseDelta(y=-three_axis * 2)\n",
    "    shot()\n",
    "\n",
    "    world.movePose(p)\n",
    "    if idx % 3 == 0:\n",
    "        world.movePoseDelta(rx=rotation, tool=tool)\n",
    "        shot()\n",
    "\n",
    "        world.movePoseDelta(rx=-rotation *2, tool=tool)\n",
    "        shot()\n",
    "    elif idx % 3 == 1:\n",
    "        world.movePoseDelta(ry=rotation, tool=tool)\n",
    "        shot()\n",
    "\n",
    "        world.movePoseDelta(ry=-rotation *2, tool=tool)\n",
    "        shot()\n",
    "    else:\n",
    "        world.movePoseDelta(rz=rotation, tool=tool)\n",
    "        shot()\n",
    "\n",
    "        world.movePoseDelta(rz=-rotation *2, tool=tool)\n",
    "        shot()"
   ]
  },
  {
   "cell_type": "code",
   "execution_count": 161,
   "metadata": {},
   "outputs": [],
   "source": [
    "world.vStopRecord()"
   ]
  },
  {
   "cell_type": "code",
   "execution_count": 162,
   "metadata": {},
   "outputs": [],
   "source": [
    "np.save('v_all_pose.npy',np.array([p.homo for p in all_pose]))"
   ]
  },
  {
   "cell_type": "code",
   "execution_count": null,
   "metadata": {},
   "outputs": [],
   "source": []
  },
  {
   "cell_type": "code",
   "execution_count": null,
   "metadata": {},
   "outputs": [],
   "source": []
  }
 ],
 "metadata": {
  "kernelspec": {
   "display_name": "rhea_env",
   "language": "python",
   "name": "python3"
  },
  "language_info": {
   "codemirror_mode": {
    "name": "ipython",
    "version": 3
   },
   "file_extension": ".py",
   "mimetype": "text/x-python",
   "name": "python",
   "nbconvert_exporter": "python",
   "pygments_lexer": "ipython3",
   "version": "3.11.9"
  }
 },
 "nbformat": 4,
 "nbformat_minor": 2
}
