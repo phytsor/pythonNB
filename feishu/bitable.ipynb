{
 "cells": [
  {
   "cell_type": "code",
   "execution_count": 84,
   "metadata": {},
   "outputs": [],
   "source": [
    "import requests\n",
    "import json\n",
    "\n",
    "doc_token = \"Di1Pb8ZDNaHdfUsSmupcWzoXnqe\"\n",
    "doc_table_id = \"tblpVE64iN7L4zL2\"\n",
    "\n",
    "def get_tenant_access_token():\n",
    "    url = \"https://open.feishu.cn/open-apis/auth/v3/tenant_access_token/internal\"\n",
    "    payload = json.dumps(\n",
    "        {\n",
    "            \"app_id\": \"cli_a6e0e9028f28500b\",\n",
    "            \"app_secret\": \"VdB9UsdUX9D7T5euSKNVtcmrLbSzzgtf\",\n",
    "        }\n",
    "    )\n",
    "\n",
    "    headers = {\"Content-Type\": \"application/json\"}\n",
    "\n",
    "    response = requests.request(\"POST\", url, headers=headers, data=payload)\n",
    "    token = response.json()[\"tenant_access_token\"]\n",
    "    return token\n",
    "\n",
    "\n",
    "def get_table_data():\n",
    "    url = f\"https://open.feishu.cn/open-apis/bitable/v1/apps/{doc_token}/tables/{doc_table_id}/records/search?page_size=20\"\n",
    "    payload = json.dumps({})\n",
    "\n",
    "    headers = {\n",
    "        \"Content-Type\": \"application/json\",\n",
    "        \"Authorization\": f\"Bearer {get_tenant_access_token()}\",\n",
    "    }\n",
    "\n",
    "    response = requests.request(\"POST\", url, headers=headers, data=payload)\n",
    "    return json.dumps(response.json())\n",
    "\n",
    "\n",
    "def add_one_record(data_dict):\n",
    "    url = f\"https://open.feishu.cn/open-apis/bitable/v1/apps/{doc_token}/tables/{doc_table_id}/records\"\n",
    "    payload = json.dumps(data_dict)\n",
    "\n",
    "    headers = {\n",
    "        \"Content-Type\": \"application/json\",\n",
    "        \"Authorization\": f\"Bearer {get_tenant_access_token()}\",\n",
    "    }\n",
    "\n",
    "    response = requests.request(\"POST\", url, headers=headers, data=payload)\n",
    "    print(response.text)"
   ]
  },
  {
   "cell_type": "code",
   "execution_count": 88,
   "metadata": {},
   "outputs": [
    {
     "name": "stdout",
     "output_type": "stream",
     "text": [
      "{\"code\":1254060,\"msg\":\"TextFieldConvFail\",\"error\":{\"log_id\":\"20240613164515F86C785C1D38B0989CEC\"}}\n"
     ]
    }
   ],
   "source": [
    "data_dict = {\"fields\":{\"ID\": \"123123123123\", \"重量（mg）\": 100}}\n",
    "\n",
    "add_one_record(data_dict)"
   ]
  },
  {
   "cell_type": "code",
   "execution_count": 7,
   "metadata": {},
   "outputs": [
    {
     "data": {
      "text/plain": [
       "{'_content': b'{\"code\":0,\"data\":{\"has_more\":false,\"items\":[{\"fields\":{\"ID\":[{\"text\":\"612202200 \",\"type\":\"text\"}],\"\\xe9\\x87\\x8d\\xe9\\x87\\x8f\\xef\\xbc\\x88mg\\xef\\xbc\\x89\":-0.02},\"record_id\":\"rec5BRixNu\"},{\"fields\":{\"ID\":[{\"text\":\"612202320 \",\"type\":\"text\"}],\"\\xe9\\x87\\x8d\\xe9\\x87\\x8f\\xef\\xbc\\x88mg\\xef\\xbc\\x89\":0.1967},\"record_id\":\"rec1ZoKp2t\"}],\"total\":2},\"msg\":\"success\"}',\n",
       " '_content_consumed': True,\n",
       " '_next': None,\n",
       " 'status_code': 200,\n",
       " 'headers': {'Server': 'Tengine', 'Content-Type': 'application/json; charset=utf-8', 'Transfer-Encoding': 'chunked', 'Connection': 'keep-alive', 'Date': 'Thu, 13 Jun 2024 05:58:33 GMT', 'Vary': 'Accept-Encoding', 'Request-Id': '56845b0b-408e-481f-86e5-5b054d35e511', 'Tt_stable': '1', 'X-Lgw-Dst-Svc': 'CyzHQAtf4cRBrkbObjX-RNC3B-97lv0Wbu55_m3j3Q-INNjnckaK-H_vYuftXPygJsb60vZpt2CzdJSkq49s_Ri0V1heqwx5-Rm-KF7zPDFlzkpv2zSYP7uYyAGa8cOuPE7lL8OPAjg1upQ=', 'X-Request-Id': '56845b0b-408e-481f-86e5-5b054d35e511', 'X-Tt-Logid': '20240613135833B1F477FD9212D2A986D2', 'server-timing': 'inner; dur=494, cdn-cache;desc=MISS,edge;dur=0,origin;dur=543', 'x-tt-trace-host': '01e1461c904f63ba749f85ba2b4a02b27a101f320be6b71124263e55e4edd16b6ba728b349814c1b5d94a7e3a55b20d876f1065bc6631bdb12a1e3667b6e04ea5c329853d8e0e37fc6e08bf93bfdf3afbc57895824b9b5dd570428ae47af30e772', 'x-tt-trace-tag': 'id=03;cdn-cache=miss;type=dyn', 'x-tt-trace-id': '00-240613135833B1F477FD9212D2A986D2-70CABE0C04907BBC-00', 'X-Timestamp': '1718258313.602', 'Content-Encoding': 'gzip', 'Via': 'dynamic2.cn6679[543,0]', 'Timing-Allow-Origin': '*', 'EagleId': 'a38e9bac17182583130846847e'},\n",
       " 'raw': <urllib3.response.HTTPResponse at 0x2016702a140>,\n",
       " 'url': 'https://open.feishu.cn/open-apis/bitable/v1/apps/Di1Pb8ZDNaHdfUsSmupcWzoXnqe/tables/tblpVE64iN7L4zL2/records/search?page_size=20',\n",
       " 'encoding': 'utf-8',\n",
       " 'history': [],\n",
       " 'reason': 'OK',\n",
       " 'cookies': <RequestsCookieJar[]>,\n",
       " 'elapsed': datetime.timedelta(microseconds=584452),\n",
       " 'request': <PreparedRequest [POST]>,\n",
       " 'connection': <requests.adapters.HTTPAdapter at 0x201681dc5d0>}"
      ]
     },
     "execution_count": 7,
     "metadata": {},
     "output_type": "execute_result"
    }
   ],
   "source": [
    "response.__dict__"
   ]
  },
  {
   "cell_type": "code",
   "execution_count": 8,
   "metadata": {},
   "outputs": [
    {
     "data": {
      "text/plain": [
       "'{\"code\":0,\"data\":{\"has_more\":false,\"items\":[{\"fields\":{\"ID\":[{\"text\":\"612202200 \",\"type\":\"text\"}],\"重量（mg）\":-0.02},\"record_id\":\"rec5BRixNu\"},{\"fields\":{\"ID\":[{\"text\":\"612202320 \",\"type\":\"text\"}],\"重量（mg）\":0.1967},\"record_id\":\"rec1ZoKp2t\"}],\"total\":2},\"msg\":\"success\"}'"
      ]
     },
     "execution_count": 8,
     "metadata": {},
     "output_type": "execute_result"
    }
   ],
   "source": [
    "response.text"
   ]
  },
  {
   "cell_type": "code",
   "execution_count": 10,
   "metadata": {},
   "outputs": [
    {
     "data": {
      "text/plain": [
       "{'code': 0,\n",
       " 'data': {'has_more': False,\n",
       "  'items': [{'fields': {'ID': [{'text': '612202200 ', 'type': 'text'}],\n",
       "     '重量（mg）': -0.02},\n",
       "    'record_id': 'rec5BRixNu'},\n",
       "   {'fields': {'ID': [{'text': '612202320 ', 'type': 'text'}],\n",
       "     '重量（mg）': 0.1967},\n",
       "    'record_id': 'rec1ZoKp2t'}],\n",
       "  'total': 2},\n",
       " 'msg': 'success'}"
      ]
     },
     "execution_count": 10,
     "metadata": {},
     "output_type": "execute_result"
    }
   ],
   "source": [
    "response.json()"
   ]
  },
  {
   "cell_type": "code",
   "execution_count": null,
   "metadata": {},
   "outputs": [],
   "source": []
  }
 ],
 "metadata": {
  "kernelspec": {
   "display_name": "rheaPC",
   "language": "python",
   "name": "python3"
  },
  "language_info": {
   "codemirror_mode": {
    "name": "ipython",
    "version": 3
   },
   "file_extension": ".py",
   "mimetype": "text/x-python",
   "name": "python",
   "nbconvert_exporter": "python",
   "pygments_lexer": "ipython3",
   "version": "3.11.9"
  }
 },
 "nbformat": 4,
 "nbformat_minor": 2
}
