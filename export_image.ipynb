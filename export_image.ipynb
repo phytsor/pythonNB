{
 "cells": [
  {
   "cell_type": "code",
   "execution_count": null,
   "metadata": {},
   "outputs": [],
   "source": [
    "import lmdb, os, re\n",
    "import json\n",
    "import cv2\n",
    "from bitable import *\n",
    "\n",
    "directory = r\"D:\\records\\powder_photos\"\n",
    "image_path = r\"D:\\records\\images\"\n",
    "datas = get_datas()\n",
    "\n",
    "entries = os.listdir(directory)\n",
    "folders = [\n",
    "    entry\n",
    "    for entry in entries\n",
    "    if entry != \"backup\" and os.path.isdir(os.path.join(directory, entry))\n",
    "]\n",
    "\n",
    "\n",
    "def export_photos(dictName):\n",
    "    mdb_path = fr\"{directory}\\{dictName}\"\n",
    "    print(mdb_path)\n",
    "    env = lmdb.open(mdb_path)\n",
    "    with env.begin() as txn:\n",
    "        meta = json.loads(txn.get(b\"meta.json\"))\n",
    "\n",
    "        for img in meta[\"image_list\"]:\n",
    "            weight = datas[str(img[\"trigger_id\"])]\n",
    "            if weight>=0.5 and weight<=20:\n",
    "                png_data = txn.get(img[\"name\"].encode())\n",
    "                dir = rf'{image_path}\\{img[\"trigger_id\"]}_{weight}'\n",
    "                os.makedirs(dir, exist_ok=True)\n",
    "                print(img[\"name\"], weight, type(weight))\n",
    "                with open(rf'{dir}\\{dictName[0]}{img[\"name\"]}', \"wb\") as pngFile:\n",
    "                    pngFile.write(png_data)"
   ]
  },
  {
   "cell_type": "code",
   "execution_count": null,
   "metadata": {},
   "outputs": [],
   "source": [
    "for d in folders:\n",
    "    export_photos(d)"
   ]
  },
  {
   "cell_type": "code",
   "execution_count": null,
   "metadata": {},
   "outputs": [],
   "source": []
  }
 ],
 "metadata": {
  "kernelspec": {
   "display_name": "rheaPC",
   "language": "python",
   "name": "python3"
  },
  "language_info": {
   "codemirror_mode": {
    "name": "ipython",
    "version": 3
   },
   "file_extension": ".py",
   "mimetype": "text/x-python",
   "name": "python",
   "nbconvert_exporter": "python",
   "pygments_lexer": "ipython3",
   "version": "3.11.9"
  }
 },
 "nbformat": 4,
 "nbformat_minor": 2
}
